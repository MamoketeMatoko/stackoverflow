{
 "cells": [
  {
   "cell_type": "code",
   "execution_count": 1,
   "metadata": {},
   "outputs": [
    {
     "ename": "ModuleNotFoundError",
     "evalue": "No module named 'xgboost'",
     "output_type": "error",
     "traceback": [
      "\u001b[1;31m---------------------------------------------------------------------------\u001b[0m",
      "\u001b[1;31mModuleNotFoundError\u001b[0m                       Traceback (most recent call last)",
      "\u001b[1;32m~\\AppData\\Local\\Temp/ipykernel_20908/4035527801.py\u001b[0m in \u001b[0;36m<module>\u001b[1;34m\u001b[0m\n\u001b[0;32m      7\u001b[0m \u001b[1;31m#import lightgbm as lgb\u001b[0m\u001b[1;33m\u001b[0m\u001b[1;33m\u001b[0m\u001b[0m\n\u001b[0;32m      8\u001b[0m \u001b[1;32mfrom\u001b[0m \u001b[0msklearn\u001b[0m\u001b[1;33m.\u001b[0m\u001b[0mensemble\u001b[0m \u001b[1;32mimport\u001b[0m \u001b[0mRandomForestClassifier\u001b[0m\u001b[1;33m\u001b[0m\u001b[1;33m\u001b[0m\u001b[0m\n\u001b[1;32m----> 9\u001b[1;33m \u001b[1;32mfrom\u001b[0m \u001b[0mxgboost\u001b[0m \u001b[1;32mimport\u001b[0m \u001b[0mXGBClassifier\u001b[0m\u001b[1;33m\u001b[0m\u001b[1;33m\u001b[0m\u001b[0m\n\u001b[0m\u001b[0;32m     10\u001b[0m \u001b[1;32mfrom\u001b[0m \u001b[0msklearn\u001b[0m\u001b[1;33m.\u001b[0m\u001b[0mmetrics\u001b[0m \u001b[1;32mimport\u001b[0m \u001b[0mroc_auc_score\u001b[0m\u001b[1;33m,\u001b[0m \u001b[0mroc_curve\u001b[0m\u001b[1;33m\u001b[0m\u001b[1;33m\u001b[0m\u001b[0m\n\u001b[0;32m     11\u001b[0m \u001b[1;32mfrom\u001b[0m \u001b[0msklearn\u001b[0m\u001b[1;33m.\u001b[0m\u001b[0mmodel_selection\u001b[0m \u001b[1;32mimport\u001b[0m \u001b[0mKFold\u001b[0m\u001b[1;33m,\u001b[0m \u001b[0mStratifiedKFold\u001b[0m\u001b[1;33m\u001b[0m\u001b[1;33m\u001b[0m\u001b[0m\n",
      "\u001b[1;31mModuleNotFoundError\u001b[0m: No module named 'xgboost'"
     ]
    }
   ],
   "source": [
    "import numpy as np\n",
    "import pandas as pd\n",
    "import gc\n",
    "import random\n",
    "import time\n",
    "from contextlib import contextmanager\n",
    "#import lightgbm as lgb\n",
    "from sklearn.ensemble import RandomForestClassifier\n",
    "from xgboost import XGBClassifier\n",
    "from sklearn.metrics import roc_auc_score, roc_curve\n",
    "from sklearn.model_selection import KFold, StratifiedKFold\n",
    "import matplotlib.pyplot as plt\n",
    "import seaborn as sns\n",
    "from sklearn.metrics import roc_auc_score, roc_curve, classification_report, confusion_matrix\n",
    "from sklearn.model_selection import KFold, StratifiedKFold, cross_val_score"
   ]
  },
  {
   "cell_type": "code",
   "execution_count": 186,
   "metadata": {},
   "outputs": [],
   "source": [
    "import pickle\n",
    "from sklearn.linear_model import LogisticRegression\n",
    "from sklearn.model_selection import train_test_split\n",
    "from skopt import BayesSearchCV\n",
    "#pd.options.display.float_format = '{:.9f}'.format\n",
    "import shap\n",
    "import re"
   ]
  },
  {
   "cell_type": "code",
   "execution_count": 187,
   "metadata": {},
   "outputs": [],
   "source": [
    "from scipy.cluster.hierarchy import linkage\n",
    "from scipy.cluster.hierarchy import dendrogram\n",
    "from scipy.cluster.hierarchy import linkage, fcluster\n",
    "import matplotlib.pyplot as plt\n",
    "import pycountry_convert as pc"
   ]
  },
  {
   "cell_type": "code",
   "execution_count": 188,
   "metadata": {},
   "outputs": [],
   "source": [
    "pd.set_option('display.max_rows', None)\n",
    "pd.set_option('display.max_columns', None)"
   ]
  },
  {
   "cell_type": "code",
   "execution_count": 189,
   "metadata": {},
   "outputs": [],
   "source": [
    "def regroup_cateogries(dataset):\n",
    "    dataset['marital-status']= np.where(dataset['marital_status'] ==' Married-AF-spouse', 'Married-civ-spouse')   \n",
    "    return dataset\n",
    "\n",
    "def one_hot_encoding(dataset, excluded_columns):\n",
    "    cat_columns=[]\n",
    "    for i in dataset.columns:\n",
    "        if ((dataset[i].dtypes == 'object') and (i not in excluded_columns)):\n",
    "            cat_columns.append(i)\n",
    "    df_encoded = pd.get_dummies(dataset, columns=cat_columns)\n",
    "    df_encoded.columns = df_encoded.columns.str.replace(\" \", \"\")\n",
    "    return df_encoded\n",
    "\n",
    "def country_to_continent(country_name):\n",
    "    if (country_name != '?') and (country_name != ' ?') and (country_name != 'Other') and  (country_name != 'Europe')  and  (country_name != 'North America') :\n",
    "        country_alpha2 = pc.country_name_to_country_alpha2(country_name)\n",
    "        country_continent_code = pc.country_alpha2_to_continent_code(country_alpha2)\n",
    "        country_continent_name = pc.convert_continent_code_to_continent_name(country_continent_code)\n",
    "    else:\n",
    "        country_continent_name = 'Other'\n",
    "    return country_continent_name\n",
    "\n",
    "def regroup_categories(dataset):\n",
    "    for i in dataset.columns:\n",
    "        if (dataset[i].dtypes == 'object'):\n",
    "            dataset[i] = dataset[i].replace(r\"^ +| +$\", r\"\", regex=True)\n",
    "    dataset['marital-status'] = dataset['marital-status'].apply(lambda x: 'Married' if (x == 'Married-AF-spouse')| (x == 'Married-civ-spouse') else 'Not Married')\n",
    "   \n",
    "    dataset['workclass']  = dataset['workclass'].apply(lambda x: 'Gov' if (x == 'Local-gov')|(x == 'State-gov')|(x== 'Federal-gov') else x)\n",
    "    dataset['workclass']  = dataset['workclass'].apply(lambda x: 'Without-pay' if (x == 'Never-worked') else x)\n",
    "    dataset['education']  = dataset['education'].apply(lambda x: 'Pre-HS' if (x == '10th')|(x == '11th')|(x == '12th')|(x == '1st-4th')|(x == '5th-6th')|(x=='7th-8th')|(x=='9th')|(x=='Preschool') else x)\n",
    "    \n",
    "    dataset['native-country']  = dataset['native-country'].apply(lambda x: 'USA' if (x == 'United-States') else x)\n",
    "    dataset['native-country']  = dataset['native-country'].apply(lambda x: 'USA' if (x == 'Outlying-US(Guam-USVI-etc)') else x)\n",
    "    dataset['native-country']  = dataset['native-country'].apply(lambda x: 'Hong Kong' if (x == 'Hong') else x)\n",
    "    dataset['native-country']  = dataset['native-country'].apply(lambda x: 'Dominican Republic' if (x == 'Dominican-Republic') else x)\n",
    "    dataset['native-country']  = dataset['native-country'].apply(lambda x: 'Puerto Rico' if (x == 'Puerto-Rico') else x)\n",
    "    dataset['native-country']  = dataset['native-country'].apply(lambda x: 'Puerto Rico' if (x == 'Puerto-Rico') else x)\n",
    "    dataset['native-country']  = dataset['native-country'].apply(lambda x: 'Netherlands' if (x == 'Holand-Netherlands') else x)\n",
    "    dataset['native-country']  = dataset['native-country'].apply(lambda x: 'El Salvador' if (x == 'El Savador') else x)\n",
    "    dataset['native-country']  = dataset['native-country'].apply(lambda x: 'El Salvador' if (x == 'El-Salvador') else x)\n",
    "    dataset['native-country']  = dataset['native-country'].apply(lambda x: 'Europe' if (x == 'Yugoslavia') | (x == 'England') |  (x == 'Scotland') else x)\n",
    "    dataset['native-country']  = dataset['native-country'].apply(lambda x: 'Colombia' if (x == 'Columbia')  else x)\n",
    "    dataset['native-country']  = dataset['native-country'].apply(lambda x: 'Trinidad and Tobago' if (x == 'Trinadad&Tobago')  else x)\n",
    "    dataset['native-country']  = dataset['native-country'].apply(lambda x: 'Trinidad and Tobago' if (x == 'Trinadad and Tobago')  else x)\n",
    "    dataset['native-country']  = dataset['native-country'].apply(lambda x: 'Other' if (x == 'South') else x)\n",
    "    dataset['native-continent']  = dataset['native-country'].apply(lambda x: country_to_continent(x) if country_to_continent(x) else x)\n",
    "    \n",
    "    return dataset"
   ]
  },
  {
   "cell_type": "code",
   "execution_count": null,
   "metadata": {},
   "outputs": [],
   "source": []
  },
  {
   "cell_type": "code",
   "execution_count": 190,
   "metadata": {},
   "outputs": [],
   "source": [
    "# Define the desired range (e.g., [0, 1])\n",
    "min_range = 0\n",
    "max_range = 1\n",
    "\n",
    "# Min-Max scaling function\n",
    "def min_max_scaling(column):\n",
    "    return (column - column.min()) / (column.max() - column.min()) * (max_range - min_range) + min_range\n",
    "\n",
    "# Apply Min-Max scaling to each column in the DataFrame\n",
    "#modelling = modelling.apply(min_max_scaling)"
   ]
  },
  {
   "cell_type": "code",
   "execution_count": 191,
   "metadata": {},
   "outputs": [],
   "source": [
    "# One-hot encoding for categorical columns with get_dummies\n",
    "# CREDIT: https://www.kaggle.com/jsaguiar/lightgbm-with-simple-features?scriptVersionId=6025993\n",
    "def one_hot_encoder(df, nan_as_category = True):\n",
    "    original_columns = list(df.columns)\n",
    "    categorical_columns = [col for col in df.columns if df[col].dtype == 'object']\n",
    "    df = pd.get_dummies(df, columns= categorical_columns, dummy_na= nan_as_category)\n",
    "    new_columns = [c for c in df.columns if c not in original_columns]\n",
    "    return df, new_columns\n",
    "\n",
    "from statsmodels.tools.tools import add_constant\n",
    "import statsmodels.api as sm\n",
    "\n",
    "def variance_inflation_factors(exog_df):\n",
    "    '''\n",
    "    Parameters\n",
    "    ----------\n",
    "    exog_df : dataframe, (nobs, k_vars)\n",
    "        design matrix with all explanatory variables, as for example used in\n",
    "        regression.\n",
    "\n",
    "    Returns\n",
    "    -------\n",
    "    vif : Series\n",
    "        variance inflation factors\n",
    "    '''\n",
    "    exog_df = add_constant(exog_df)\n",
    "    vifs = pd.Series(\n",
    "        [1 / (1. - sm.OLS(exog_df[col].values, \n",
    "                       exog_df.loc[:, exog_df.columns != col].values).fit().rsquared) \n",
    "         for col in exog_df],\n",
    "        index=exog_df.columns,\n",
    "        name='VIF'\n",
    "    )\n",
    "    return vifs"
   ]
  },
  {
   "cell_type": "code",
   "execution_count": 192,
   "metadata": {},
   "outputs": [],
   "source": [
    "def percentage_non_zero_non_inf_non_nan(column):\n",
    "    \"\"\"\n",
    "    Calculate the percentage of non-zero, non-inf, and non-NaN values in a column.\n",
    "\n",
    "    Parameters:\n",
    "    - column: pandas Series\n",
    "        The input column to calculate the percentage for.\n",
    "\n",
    "    Returns:\n",
    "    - percentage: float\n",
    "        The percentage of non-zero, non-inf, and non-NaN values in the column.\n",
    "    \"\"\"\n",
    "    # Filter out zero, inf, and NaN values\n",
    "    valid_values = column[~((column == 0) | (column == np.inf) | (column == -np.inf) | column.isna())]\n",
    "\n",
    "    # Calculate the percentage\n",
    "    total_values = len(column)\n",
    "    valid_count = len(valid_values)\n",
    "    percentage = (valid_count / total_values)\n",
    "\n",
    "    return percentage"
   ]
  },
  {
   "cell_type": "code",
   "execution_count": 193,
   "metadata": {},
   "outputs": [],
   "source": [
    "#modelling.to_pickle('modelling.pkl')\n",
    "modelling = pd.read_csv('adult-income-predictor/train_set.csv')\n",
    "test_set = pd.read_csv('adult-income-predictor/test_set.csv')"
   ]
  },
  {
   "cell_type": "markdown",
   "metadata": {},
   "source": [
    "#### Feature Engineering"
   ]
  },
  {
   "cell_type": "code",
   "execution_count": 194,
   "metadata": {},
   "outputs": [],
   "source": [
    "def dummy_encode(data, column_name):\n",
    "    encoded_data = pd.get_dummies(data, columns=[column_name], prefix=[column_name])\n",
    "\n",
    "    return encoded_data"
   ]
  },
  {
   "cell_type": "code",
   "execution_count": 195,
   "metadata": {},
   "outputs": [],
   "source": [
    "def calcWeightsMask(df, VAR_TO_MASK, NEW_NAME):\n",
    "\n",
    "    CATEGORIES_LIST = list(set(list(df[VAR_TO_MASK].to_numpy())))\n",
    "    CATEGORY = VAR_TO_MASK\n",
    "    NEW_NAME = NEW_NAME\n",
    "    df[NEW_NAME] = 0\n",
    "    i = 0\n",
    "    while (i < len(CATEGORIES_LIST)):\n",
    "        SHAPE_DATA = df.shape[0]\n",
    "        NUM_LEVELS = df[(df[CATEGORY] == CATEGORIES_LIST[i])].shape[0]\n",
    "        df[NEW_NAME] = np.where((df[CATEGORY] == CATEGORIES_LIST[i]), NUM_LEVELS/SHAPE_DATA,df[NEW_NAME])\n",
    "        #print(CATEGORIES_LIST[i])\n",
    "        i = i + 1\n",
    "        \n",
    "    return df"
   ]
  },
  {
   "cell_type": "code",
   "execution_count": 196,
   "metadata": {},
   "outputs": [],
   "source": [
    "def featureEng(df):\n",
    "    \n",
    "    #### fnlwgt\n",
    "    CENSUS_SUM = 5262819141\n",
    "    df['PROPOTION_fnlwgt'] = 10000*(df['fnlwgt']/CENSUS_SUM)\n",
    "    \n",
    "    SUM_CAPITALGAIN = df['capital-gain'].sum()\n",
    "    SUM_CAPITALLOSS = df['capital-loss'].sum()\n",
    "\n",
    "    df['PROPOTION_CAPITALGAIN'] = 1000*(df['capital-gain']/SUM_CAPITALGAIN)\n",
    "    df['PROPOTION_CAPITALLOSS'] = 1000*(df['capital-loss']/SUM_CAPITALLOSS)\n",
    "    \n",
    "    df['CAPITAL_GAIN'] = np.where((df['capital-gain'] > 0),1,0)\n",
    "    df['CAPITAL_LOSS'] = np.where((df['capital-loss'] > 0),1,0)\n",
    "    \n",
    "    df['hours_worked_prop_median'] = (df['hours-per-week']/df['hours-per-week'].quantile([0.5]).values[0])\n",
    "    df['age_against_median'] = (df['age']/df['age'].quantile([0.5]).values[0])\n",
    "    df['education_against_median'] = (df['education-num']/df['education-num'].quantile([0.5]).values[0])\n",
    "    \n",
    "    df['age_cat'] = df['age'].astype('str')\n",
    "    df['sex_cat'] = df['sex'].astype('str')\n",
    "    \n",
    "    df['age_sex_cat'] = df['age_cat']+df['sex_cat']\n",
    "    \n",
    "    # Assuming you have a DataFrame 'df' with a 'marital-status' column\n",
    "    # Clean the column by stripping leading/trailing whitespaces and convert to lowercase\n",
    "    df['marital-status'] = df['marital-status'].str.strip().str.lower()\n",
    "\n",
    "    # Create a new column 'is_married' to store the result (case-insensitive check)\n",
    "    df['is_married'] = df['marital-status'].str.startswith('married')\n",
    "\n",
    "    # Convert the boolean values to 1 for True (married) and 0 for False (not married)\n",
    "    df['is_married'] = df['is_married'].astype(int)\n",
    "\n",
    "    \n",
    "    df['product_age_hours'] = df['age']*df['hours-per-week']\n",
    "    \n",
    "    return df"
   ]
  },
  {
   "cell_type": "code",
   "execution_count": 259,
   "metadata": {},
   "outputs": [],
   "source": [
    "modelling_0 = featureEng(modelling)\n",
    "test_set_0 = featureEng(test_set)\n",
    "\n",
    "### Train\n",
    "test_pd= modelling_0.copy()\n",
    "regrouped_df= regroup_categories(test_pd)\n",
    "modelling_0 = regrouped_df.copy()\n",
    "\n",
    "### Test\n",
    "test_pd= test_set_0.copy()\n",
    "regrouped_df= regroup_categories(test_pd)\n",
    "test_set_0 = regrouped_df.copy()\n",
    "#second argument, is the categorical columns we're excluding from being one hot encoded"
   ]
  },
  {
   "cell_type": "code",
   "execution_count": 260,
   "metadata": {},
   "outputs": [
    {
     "data": {
      "text/plain": [
       "(43957, 30)"
      ]
     },
     "execution_count": 260,
     "metadata": {},
     "output_type": "execute_result"
    }
   ],
   "source": [
    "modelling_0.shape"
   ]
  },
  {
   "cell_type": "code",
   "execution_count": 261,
   "metadata": {},
   "outputs": [
    {
     "data": {
      "text/plain": [
       "0    23235\n",
       "1    20722\n",
       "Name: is_married, dtype: int64"
      ]
     },
     "execution_count": 261,
     "metadata": {},
     "output_type": "execute_result"
    }
   ],
   "source": [
    "modelling_0['is_married'].value_counts()"
   ]
  },
  {
   "cell_type": "code",
   "execution_count": 262,
   "metadata": {},
   "outputs": [],
   "source": [
    "### TRAIN\n",
    "modelling_0 = calcWeightsMask(modelling_0, 'race', 'WEIGHT_OF_1')\n",
    "modelling_0 = calcWeightsMask(modelling_0, 'sex', 'WEIGHT_OF_2')\n",
    "modelling_0 = calcWeightsMask(modelling_0, 'marital-status', 'WEIGHT_OF_3')\n",
    "modelling_0 = calcWeightsMask(modelling_0, 'native-country', 'WEIGHT_OF_4')\n",
    "modelling_0 = calcWeightsMask(modelling_0, 'workclass', 'WEIGHT_OF_5')\n",
    "modelling_0 = calcWeightsMask(modelling_0, 'age', 'WEIGHT_OF_6')\n",
    "modelling_0 = calcWeightsMask(modelling_0, 'occupation', 'WEIGHT_OF_7')\n",
    "modelling_0 = calcWeightsMask(modelling_0, 'education', 'WEIGHT_OF_8')\n",
    "modelling_0 = calcWeightsMask(modelling_0, 'age_sex_cat', 'WEIGHT_OF_9')\n",
    "modelling_0 = calcWeightsMask(modelling_0, 'is_married', 'WEIGHT_OF_10')\n",
    "modelling_0 = calcWeightsMask(modelling_0, 'product_age_hours', 'WEIGHT_OF_11')\n",
    "modelling_0 = calcWeightsMask(modelling_0, 'education-num', 'WEIGHT_OF_12')\n",
    "modelling_0 = calcWeightsMask(modelling_0, 'native-continent', 'WEIGHT_OF_13')"
   ]
  },
  {
   "cell_type": "code",
   "execution_count": 263,
   "metadata": {},
   "outputs": [],
   "source": [
    "### TEST\n",
    "test_set_0 = calcWeightsMask(test_set_0, 'race', 'WEIGHT_OF_1')\n",
    "test_set_0 = calcWeightsMask(test_set_0, 'sex', 'WEIGHT_OF_2')\n",
    "test_set_0 = calcWeightsMask(test_set_0, 'marital-status', 'WEIGHT_OF_3')\n",
    "test_set_0 = calcWeightsMask(test_set_0, 'native-country', 'WEIGHT_OF_4')\n",
    "test_set_0 = calcWeightsMask(test_set_0, 'workclass', 'WEIGHT_OF_5')\n",
    "test_set_0 = calcWeightsMask(test_set_0, 'age', 'WEIGHT_OF_6')\n",
    "test_set_0 = calcWeightsMask(test_set_0, 'occupation', 'WEIGHT_OF_7')\n",
    "test_set_0 = calcWeightsMask(test_set_0, 'education', 'WEIGHT_OF_8')\n",
    "test_set_0 = calcWeightsMask(test_set_0, 'age_sex_cat', 'WEIGHT_OF_9')\n",
    "test_set_0 = calcWeightsMask(test_set_0, 'is_married', 'WEIGHT_OF_10')\n",
    "test_set_0 = calcWeightsMask(test_set_0, 'product_age_hours', 'WEIGHT_OF_11')\n",
    "test_set_0 = calcWeightsMask(test_set_0, 'education-num', 'WEIGHT_OF_12')\n",
    "test_set_0 = calcWeightsMask(test_set_0, 'native-continent', 'WEIGHT_OF_13')"
   ]
  },
  {
   "cell_type": "code",
   "execution_count": 264,
   "metadata": {},
   "outputs": [],
   "source": [
    "modelling_0 = modelling_0.drop(['is_married'], axis=1)"
   ]
  },
  {
   "cell_type": "code",
   "execution_count": 265,
   "metadata": {},
   "outputs": [],
   "source": [
    "modelling_0.fillna(\"Unknown\", inplace=True)\n",
    "modelling_0.replace([' ',' ?','?'], \"Unknown\", inplace=True)\n",
    "\n",
    "test_set_0.fillna(\"Unknown\", inplace=True)\n",
    "test_set_0.replace([' ',' ?','?'], \"Unknown\", inplace=True)"
   ]
  },
  {
   "cell_type": "code",
   "execution_count": 266,
   "metadata": {},
   "outputs": [],
   "source": [
    "categorical_columns = modelling_0.select_dtypes(include=['category','object']).columns.tolist()\n",
    "\n",
    "modelling_0[categorical_columns] = modelling_0[categorical_columns].apply(lambda x: x.str.strip())\n",
    "test_set_0[categorical_columns] = test_set_0[categorical_columns].apply(lambda x: x.str.strip())"
   ]
  },
  {
   "cell_type": "code",
   "execution_count": 267,
   "metadata": {},
   "outputs": [],
   "source": [
    "modelling_0['occupation'] = modelling_0['occupation'].replace('Armed-Forces', 'Unknown')\n",
    "test_set_0['occupation'] = test_set_0['occupation'].replace('Armed-Forces', 'Unknown')\n",
    "\n",
    "modelling_0['native-country'] = modelling_0['native-country'].replace(['Netherlands','Hungary','Holand-Netherlands'], 'Unknown')\n",
    "test_set_0['native-country'] = test_set_0['native-country'].replace(['Netherlands','Hungary','Holand-Netherlands'], 'Unknown')\n",
    "\n",
    "modelling_0['native-continent'] = modelling_0['native-continent'].replace(['Hungary','Netherlands'], 'Unknown')\n",
    "test_set_0['native-continent'] = test_set_0['native-continent'].replace(['Hungary','Netherlands'], 'Unknown')"
   ]
  },
  {
   "cell_type": "code",
   "execution_count": 268,
   "metadata": {},
   "outputs": [],
   "source": [
    "def dummy_all_cat_vars(df):\n",
    "    #categorical_columns = df.select_dtypes(include=['category','object']).columns.tolist()\n",
    "    categorical_columns = ['workclass','occupation','relationship','native-country','native-continent']\n",
    "    i = 0\n",
    "    while (i < len(categorical_columns)):\n",
    "        tmp_df = dummy_encode(df[[categorical_columns[i]]], categorical_columns[i])\n",
    "        new_cols = list(tmp_df.columns)\n",
    "    \n",
    "        df = df.drop(new_cols, axis=1, errors='ignore')\n",
    "        df = pd.concat([df.reset_index(drop=True), tmp_df.reset_index(drop=True)], axis=1)\n",
    "        i = i + 1\n",
    "        \n",
    "    return df"
   ]
  },
  {
   "cell_type": "code",
   "execution_count": 269,
   "metadata": {},
   "outputs": [],
   "source": [
    "modelling_0 = dummy_all_cat_vars(modelling_0)\n",
    "test_set_0 = dummy_all_cat_vars(test_set_0)"
   ]
  },
  {
   "cell_type": "code",
   "execution_count": 270,
   "metadata": {},
   "outputs": [],
   "source": [
    "modelling_0 = modelling_0.reset_index(drop=True)\n",
    "test_set_0 = test_set_0.reset_index(drop=True)"
   ]
  },
  {
   "cell_type": "code",
   "execution_count": 271,
   "metadata": {},
   "outputs": [
    {
     "name": "stdout",
     "output_type": "stream",
     "text": [
      "List of Lists with Variables in Each Cluster:\n",
      "Cluster 2: ['WEIGHT_OF_13', 'native-continent_North America']\n",
      "Cluster 3: ['WEIGHT_OF_4', 'native-country_USA']\n",
      "Cluster 4: ['WEIGHT_OF_10']\n",
      "Cluster 5: ['relationship_Not-in-family']\n",
      "Cluster 6: ['WEIGHT_OF_5', 'workclass_Private']\n",
      "Cluster 7: ['WEIGHT_OF_8', 'WEIGHT_OF_12']\n",
      "Cluster 8: ['occupation_Other-service']\n",
      "Cluster 9: ['relationship_Own-child']\n",
      "Cluster 10: ['age', 'age_against_median']\n",
      "Cluster 11: ['product_age_hours']\n",
      "Cluster 12: ['hours-per-week', 'hours_worked_prop_median']\n",
      "Cluster 13: ['WEIGHT_OF_2']\n",
      "Cluster 14: ['relationship_Husband']\n",
      "Cluster 15: ['capital-loss', 'PROPOTION_CAPITALLOSS', 'CAPITAL_LOSS']\n",
      "Cluster 16: ['education-num', 'education_against_median']\n",
      "Cluster 17: ['occupation_Prof-specialty']\n",
      "Cluster 18: ['WEIGHT_OF_7']\n",
      "Cluster 19: ['capital-gain', 'PROPOTION_CAPITALGAIN']\n",
      "Cluster 20: ['CAPITAL_GAIN']\n",
      "Cluster 21: ['workclass_Self-emp-inc']\n",
      "Cluster 22: ['occupation_Exec-managerial']\n",
      "Cluster 23: ['TARGET']\n",
      "Cluster 24: ['workclass_Unknown', 'occupation_Unknown']\n",
      "Cluster 25: ['workclass_Gov']\n",
      "Cluster 26: ['occupation_Protective-serv']\n",
      "Cluster 27: ['occupation_Tech-support']\n",
      "Cluster 28: ['occupation_Transport-moving']\n",
      "Cluster 29: ['WEIGHT_OF_1']\n",
      "Cluster 30: ['occupation_Sales']\n",
      "Cluster 31: ['workclass_Self-emp-not-inc']\n",
      "Cluster 32: ['occupation_Farming-fishing']\n",
      "Cluster 33: ['occupation_Craft-repair']\n",
      "Cluster 34: ['native-country_Colombia']\n",
      "Cluster 35: ['native-continent_South America']\n",
      "Cluster 36: ['native-country_Ecuador']\n",
      "Cluster 37: ['native-country_Peru']\n",
      "Cluster 38: ['fnlwgt', 'PROPOTION_fnlwgt']\n",
      "Cluster 39: ['WEIGHT_OF_11']\n",
      "Cluster 40: ['occupation_Machine-op-inspct']\n",
      "Cluster 41: ['occupation_Handlers-cleaners']\n",
      "Cluster 42: ['native-country_Mexico']\n",
      "Cluster 43: ['occupation_Adm-clerical']\n",
      "Cluster 44: ['relationship_Unmarried']\n",
      "Cluster 45: ['native-country_Europe']\n",
      "Cluster 46: ['native-country_Other']\n",
      "Cluster 47: ['native-country_China']\n",
      "Cluster 48: ['native-country_India']\n",
      "Cluster 49: ['native-country_Cambodia']\n",
      "Cluster 50: ['native-country_Hong Kong']\n",
      "Cluster 51: ['native-country_Laos']\n",
      "Cluster 52: ['native-country_Thailand']\n",
      "Cluster 53: ['native-country_Iran']\n",
      "Cluster 54: ['native-country_Taiwan']\n",
      "Cluster 55: ['native-country_Japan']\n",
      "Cluster 56: ['native-country_Vietnam']\n",
      "Cluster 57: ['native-country_France']\n",
      "Cluster 58: ['native-country_Ireland']\n",
      "Cluster 59: ['native-country_Greece']\n",
      "Cluster 60: ['native-country_Italy']\n",
      "Cluster 61: ['native-country_Poland']\n",
      "Cluster 62: ['native-country_Portugal']\n",
      "Cluster 63: ['occupation_Priv-house-serv']\n",
      "Cluster 64: ['native-country_Guatemala']\n",
      "Cluster 65: ['relationship_Other-relative']\n",
      "Cluster 66: ['native-country_El Salvador']\n",
      "Cluster 67: ['native-country_Canada']\n",
      "Cluster 68: ['native-country_Cuba']\n",
      "Cluster 69: ['native-country_Haiti']\n",
      "Cluster 70: ['native-country_Jamaica']\n",
      "Cluster 71: ['native-country_Dominican Republic']\n",
      "Cluster 72: ['native-country_Nicaragua']\n",
      "Cluster 73: ['native-country_Puerto Rico']\n",
      "Cluster 74: ['ID']\n",
      "Cluster 75: ['WEIGHT_OF_3']\n",
      "Cluster 76: ['native-country_Honduras']\n",
      "Cluster 77: ['native-country_Trinidad and Tobago']\n",
      "Cluster 78: ['workclass_Without-pay']\n",
      "Cluster 79: ['relationship_Wife']\n",
      "Cluster 80: ['WEIGHT_OF_6']\n",
      "Cluster 81: ['WEIGHT_OF_9']\n",
      "Cluster 82: ['native-country_Philippines']\n",
      "Cluster 83: ['native-continent_Asia']\n",
      "Cluster 84: ['native-country_Unknown', 'native-continent_Other']\n",
      "Cluster 85: ['native-country_Germany']\n",
      "Cluster 86: ['native-continent_Europe']\n"
     ]
    }
   ],
   "source": [
    "# Load your data into a pandas DataFrame (replace 'your_data.csv' with your data file)\n",
    "df = modelling_0.copy()\n",
    "\n",
    "# 1. Remove Non-Numeric Columns\n",
    "numeric_df = df.select_dtypes(include=[np.number])  # Select only numeric columns\n",
    "\n",
    "# 2. Handle Missing Values\n",
    "numeric_df.dropna(inplace=True)  # Drop rows with missing values\n",
    "# Or, to fill missing values with zeros:\n",
    "# numeric_df.fillna(0, inplace=True)\n",
    "\n",
    "# 3. Check for Infinite Values\n",
    "numeric_df = numeric_df.replace([np.inf, -np.inf], np.nan)\n",
    "\n",
    "# 4. Recompute the Correlation Matrix\n",
    "correlation_matrix = numeric_df.corr()\n",
    "\n",
    "# 5. Handle Non-Finite Values in Correlation Matrix\n",
    "correlation_matrix = correlation_matrix.fillna(0)  # Replace NaN values with zeros\n",
    "\n",
    "# 6. Proceed with Hierarchical Clustering\n",
    "linkage_matrix = linkage(correlation_matrix, method='complete') #hierarchy.linkage(correlation_matrix, method='complete')\n",
    "\n",
    "# Set the threshold height for cutting the dendrogram\n",
    "threshold = 0.7  # Adjust this threshold as needed\n",
    "\n",
    "# Extract cluster assignments for each variable\n",
    "clusters = fcluster(linkage_matrix, threshold, criterion='distance')\n",
    "\n",
    "# Create a dictionary to map variables to clusters\n",
    "variable_cluster_mapping = {var: cluster for var, cluster in zip(correlation_matrix.columns, clusters)}\n",
    "\n",
    "# 7. Create a list of lists with variables from each cluster\n",
    "num_clusters = max(clusters)  # Get the total number of clusters\n",
    "\n",
    "clustered_variables = [[] for _ in range(num_clusters + 1)]  # Initialize an empty list for each cluster\n",
    "\n",
    "for var, cluster in variable_cluster_mapping.items():\n",
    "    clustered_variables[cluster].append(var)\n",
    "\n",
    "# Print the list of lists\n",
    "print(\"List of Lists with Variables in Each Cluster:\")\n",
    "for i, cluster in enumerate(clustered_variables, 1):\n",
    "    if cluster:\n",
    "        print(f\"Cluster {i}: {cluster}\")"
   ]
  },
  {
   "cell_type": "code",
   "execution_count": 294,
   "metadata": {},
   "outputs": [
    {
     "name": "stdout",
     "output_type": "stream",
     "text": [
      "(43957, 110)\n",
      "(43957, 100)\n"
     ]
    }
   ],
   "source": [
    "print(modelling_0.shape)\n",
    "modelling_0 = modelling_0.drop(['native-continent_Other','PROPOTION_fnlwgt',\n",
    "                                'occupation_Unknown','capital-gain',\n",
    "                                'capital-gain','education-num',\n",
    "                                'capital-loss', 'CAPITAL_LOSS',\n",
    "                                'hours-per-week','native-country_USA',\n",
    "                                'native-continent_North America'], axis=1, errors='ignore')\n",
    "print(modelling_0.shape)"
   ]
  },
  {
   "cell_type": "code",
   "execution_count": 295,
   "metadata": {},
   "outputs": [
    {
     "data": {
      "text/plain": [
       "<Figure size 1728x720 with 0 Axes>"
      ]
     },
     "execution_count": 295,
     "metadata": {},
     "output_type": "execute_result"
    },
    {
     "data": {
      "text/plain": [
       "<Figure size 1728x720 with 0 Axes>"
      ]
     },
     "metadata": {},
     "output_type": "display_data"
    }
   ],
   "source": [
    "# Increase the size of the heatmap.\n",
    "plt.figure(figsize=(24, 10))\n",
    "# Store heatmap object in a variable to easily access it when you want to include more features (such as title).\n",
    "# Set the range of values to be displayed on the colormap from -1 to 1, and set the annotation to True to display the correlation values on the heatmap.\n",
    "#heatmap = sns.heatmap(numeric_df.corr(), vmin=-1, vmax=1, annot=True)\n",
    "# Give a title to the heatmap. Pad defines the distance of the title from the top of the heatmap.\n",
    "#heatmap.set_title('Correlation Heatmap', fontdict={'fontsize':12}, pad=12);"
   ]
  },
  {
   "cell_type": "code",
   "execution_count": 296,
   "metadata": {},
   "outputs": [],
   "source": [
    "import pandas as pd\n",
    "import numpy as np\n",
    "import seaborn as sns\n",
    "import matplotlib.pyplot as plt\n",
    "from scipy.cluster import hierarchy\n",
    "from scipy.cluster.hierarchy import fcluster"
   ]
  },
  {
   "cell_type": "code",
   "execution_count": 297,
   "metadata": {},
   "outputs": [],
   "source": [
    "variables_list = list(modelling.columns)\n",
    "\n",
    "# Calculate the percentage of valid values in each column\n",
    "data_load_threshold = 0.01\n",
    "i = 0\n",
    "vars_less_than_threshold_list = []\n",
    "while (i < len(list(variables_list))):\n",
    "    data_load_perc = percentage_non_zero_non_inf_non_nan(modelling[variables_list[i]])\n",
    "    #print(selected_columns[i],data_load_perc,'\\n')\n",
    "    \n",
    "    if ((data_load_perc < data_load_threshold) and not(variables_list[i] == 'TARGET')): \n",
    "        vars_less_than_threshold_list.append(variables_list[i])\n",
    "    \n",
    "    i = i + 1\n",
    "    \n",
    "### Drop Cols that have low data load\n",
    "#modelling = modelling.drop(vars_less_than_threshold_list, axis=1)"
   ]
  },
  {
   "cell_type": "code",
   "execution_count": 308,
   "metadata": {},
   "outputs": [],
   "source": [
    "ftr_app = modelling_1.drop(['ID', 'TARGET'], axis=1, errors='ignore')\n",
    "target_app = modelling_1['TARGET']\n",
    "\n",
    "train_x, valid_x, train_y, valid_y = train_test_split(ftr_app, target_app, test_size=0.2, \n",
    "                                                      random_state=1)"
   ]
  },
  {
   "cell_type": "code",
   "execution_count": 309,
   "metadata": {},
   "outputs": [
    {
     "name": "stderr",
     "output_type": "stream",
     "text": [
      "pandas.Int64Index is deprecated and will be removed from pandas in a future version. Use pandas.Index with the appropriate dtype instead.\n",
      "pandas.Int64Index is deprecated and will be removed from pandas in a future version. Use pandas.Index with the appropriate dtype instead.\n",
      "pandas.Int64Index is deprecated and will be removed from pandas in a future version. Use pandas.Index with the appropriate dtype instead.\n",
      "pandas.Int64Index is deprecated and will be removed from pandas in a future version. Use pandas.Index with the appropriate dtype instead.\n",
      "pandas.Int64Index is deprecated and will be removed from pandas in a future version. Use pandas.Index with the appropriate dtype instead.\n",
      "pandas.Int64Index is deprecated and will be removed from pandas in a future version. Use pandas.Index with the appropriate dtype instead.\n",
      "pandas.Int64Index is deprecated and will be removed from pandas in a future version. Use pandas.Index with the appropriate dtype instead.\n",
      "pandas.Int64Index is deprecated and will be removed from pandas in a future version. Use pandas.Index with the appropriate dtype instead.\n",
      "pandas.Int64Index is deprecated and will be removed from pandas in a future version. Use pandas.Index with the appropriate dtype instead.\n",
      "pandas.Int64Index is deprecated and will be removed from pandas in a future version. Use pandas.Index with the appropriate dtype instead.\n",
      "pandas.Int64Index is deprecated and will be removed from pandas in a future version. Use pandas.Index with the appropriate dtype instead.\n",
      "pandas.Int64Index is deprecated and will be removed from pandas in a future version. Use pandas.Index with the appropriate dtype instead.\n",
      "pandas.Int64Index is deprecated and will be removed from pandas in a future version. Use pandas.Index with the appropriate dtype instead.\n",
      "pandas.Int64Index is deprecated and will be removed from pandas in a future version. Use pandas.Index with the appropriate dtype instead.\n",
      "pandas.Int64Index is deprecated and will be removed from pandas in a future version. Use pandas.Index with the appropriate dtype instead.\n",
      "pandas.Int64Index is deprecated and will be removed from pandas in a future version. Use pandas.Index with the appropriate dtype instead.\n",
      "pandas.Int64Index is deprecated and will be removed from pandas in a future version. Use pandas.Index with the appropriate dtype instead.\n",
      "pandas.Int64Index is deprecated and will be removed from pandas in a future version. Use pandas.Index with the appropriate dtype instead.\n",
      "pandas.Int64Index is deprecated and will be removed from pandas in a future version. Use pandas.Index with the appropriate dtype instead.\n",
      "pandas.Int64Index is deprecated and will be removed from pandas in a future version. Use pandas.Index with the appropriate dtype instead.\n",
      "pandas.Int64Index is deprecated and will be removed from pandas in a future version. Use pandas.Index with the appropriate dtype instead.\n",
      "pandas.Int64Index is deprecated and will be removed from pandas in a future version. Use pandas.Index with the appropriate dtype instead.\n",
      "pandas.Int64Index is deprecated and will be removed from pandas in a future version. Use pandas.Index with the appropriate dtype instead.\n",
      "pandas.Int64Index is deprecated and will be removed from pandas in a future version. Use pandas.Index with the appropriate dtype instead.\n",
      "pandas.Int64Index is deprecated and will be removed from pandas in a future version. Use pandas.Index with the appropriate dtype instead.\n",
      "pandas.Int64Index is deprecated and will be removed from pandas in a future version. Use pandas.Index with the appropriate dtype instead.\n"
     ]
    },
    {
     "name": "stdout",
     "output_type": "stream",
     "text": [
      "0.8715878070973613\n",
      "0.8782027584245699\n",
      "\n",
      " The best parameters are:\n",
      " OrderedDict([('base_score', 0.2), ('gamma', 2), ('learning_rate', 0.08444444444444445), ('max_depth', 4), ('max_features', 'sqrt'), ('min_samples_leaf', 213), ('min_samples_split', 684), ('n_estimators', 150), ('reg_lambda', 0.4342857142857143), ('subsample', 0.5)])\n"
     ]
    },
    {
     "name": "stderr",
     "output_type": "stream",
     "text": [
      "pandas.Int64Index is deprecated and will be removed from pandas in a future version. Use pandas.Index with the appropriate dtype instead.\n"
     ]
    }
   ],
   "source": [
    "#from sklearn.model_selection import RandomizedSearchCV\n",
    "# Number of trees in random forest\n",
    "n_estimators = [int(x) for x in np.linspace(start = 150, stop = 1000, num = 4)]\n",
    "# Number of features to consider at every split\n",
    "max_features = ['sqrt','auto']\n",
    "learning_rate = [float(x) for x in np.linspace(start = 0.02, stop = 0.6, num = 10)]\n",
    "reg_lambda = [float(x) for x in np.linspace(start = 0.02, stop = 0.6, num = 8)]\n",
    "base_score = [float(x) for x in np.linspace(start = 0.1, stop = 0.7, num = 7)]\n",
    "gamma=[int(x) for x in np.linspace(start = 1, stop = 4, num = 4)]\n",
    "# Maximum number of levels in tree\n",
    "max_depth = [int(x) for x in np.linspace(3, 10, num = 5)]\n",
    "### subsample\n",
    "subsample = [float(x) for x in np.linspace(start = 0.5, stop = 0.7, num = 3)]\n",
    "# Minimum number of samples required to split a node\n",
    "min_samples_split = [500, 1000]\n",
    "# Minimum number of samples required at each leaf node\n",
    "min_samples_leaf = [200, 300]\n",
    "# Method of selecting samples for training each tree\n",
    "bootstrap = [True, False]\n",
    "\n",
    "model = BayesSearchCV(\n",
    "    XGBClassifier(use_label_encoder=False,eval_metric='logloss'),\n",
    "    {'n_estimators': n_estimators,\n",
    "               'max_features': max_features,\n",
    "               'max_depth': max_depth,\n",
    "               'min_samples_split': min_samples_split,\n",
    "               'min_samples_leaf': min_samples_leaf,\n",
    "               'learning_rate':learning_rate,\n",
    "               'reg_lambda':reg_lambda,\n",
    "               'base_score':base_score,\n",
    "               'gamma':gamma,\n",
    "               'subsample':subsample},\n",
    "    n_iter=5,\n",
    "    random_state=113\n",
    ")\n",
    "\n",
    "# executes bayesian optimization\n",
    "#_ = model.fit(train_x, train_y)\n",
    "\n",
    "#print(model.score(valid_x, valid_y))\n",
    "\n",
    "#print(model.score(train_x, train_y))\n",
    "\n",
    "\n",
    "#print(\"\\n The best parameters are:\\n\", model.best_params_)"
   ]
  },
  {
   "cell_type": "code",
   "execution_count": null,
   "metadata": {},
   "outputs": [],
   "source": [
    "# 2\n",
    "#The best parameters are:\n",
    "# OrderedDict([('base_score', 0.2), ('gamma', 2), ('learning_rate', 0.08444444444444445), ('max_depth', 4), \n",
    "#              ('max_features', 'sqrt'), ('min_samples_leaf', 213), ('min_samples_split', 684), ('n_estimators', 150), \n",
    "#              ('reg_lambda', 0.4342857142857143), ('subsample', 0.5)])"
   ]
  },
  {
   "cell_type": "code",
   "execution_count": 300,
   "metadata": {},
   "outputs": [],
   "source": [
    "#The best parameters are:\n",
    "# OrderedDict([('base_score', 0.2), ('gamma', 2), ('learning_rate', 0.08444444444444445), ('max_depth', 4), ('max_features', 'sqrt'), ('min_samples_leaf', 213), ('min_samples_split', 684), ('n_estimators', 150), ('reg_lambda', 0.4342857142857143), ('subsample', 0.5)])"
   ]
  },
  {
   "cell_type": "code",
   "execution_count": 310,
   "metadata": {},
   "outputs": [],
   "source": [
    "def train_apps_all_xgbm(modelling, auc_labels_file_name, auc_prob_file_name, valid_test_df, var_selection):\n",
    "    ftr_app = modelling.drop(['ID', 'TARGET'], axis=1, errors='ignore')\n",
    "    target_app = modelling['TARGET']\n",
    "\n",
    "    train_x, valid_x, train_y, valid_y = train_test_split(ftr_app, target_app, test_size=0.15, \n",
    "                                                          random_state=1)\n",
    "    print('train shape:', train_x.shape, 'valid shape:', valid_x.shape)\n",
    "    clf = XGBClassifier(\n",
    "                        n_jobs=-1,\n",
    "                        n_estimators=150,\n",
    "                        base_score=0.2,\n",
    "                        learning_rate=0.08444444444444445,\n",
    "                        max_depth=4,\n",
    "                        num_leaves=158,\n",
    "                        colsample_bytree=0.5,\n",
    "                        subsample=0.5,\n",
    "                        gamma=2,\n",
    "                        max_bin=221,\n",
    "                        min_samples_split = 684,\n",
    "                        reg_alpha=3,\n",
    "                        reg_lambda=5,\n",
    "                        min_child_weight=5,\n",
    "                        min_child_samples=160,\n",
    "                        verbosity=0,\n",
    "                        random_state=2020,\n",
    "                        force_col_wise=True\n",
    "                )\n",
    "   \n",
    "    clf.fit(train_x, train_y, eval_set=[(train_x, train_y), (valid_x, valid_y)], \n",
    "                    eval_metric= 'auc')\n",
    "    \n",
    "    best_n_estimators = clf.best_iteration\n",
    "    clf.set_params(n_estimators=best_n_estimators)\n",
    "    model = clf\n",
    "\n",
    "    # Set the n_estimators parameter to the best_iteration\n",
    "    #clf.set_params(n_estimators=best_iteration)\n",
    "    #model = clf #clf.set_params(n_estimators=best_iteration)\n",
    "    \n",
    "    ### AUC\n",
    "    auc_cv_score = roc_auc_score(valid_y, model.predict_proba(valid_x)[:, 1])\n",
    "    \n",
    "    print(\"\\n\\n\\n\")\n",
    "    print(\"=== Mean AUC Score ===\")\n",
    "    print(\"Mean AUC Score: \", auc_cv_score.mean())\n",
    "    #print(clf.best_iteration_)\n",
    "    \n",
    "    prob_df = pd.DataFrame(model.predict_proba(valid_x)[:, 1])\n",
    "    prob_df.columns = ['prob_1']\n",
    "    #prob_df.to_csv('AUC_COMPARISONS/'+auc_prob_file_name+'.csv', index=False)\n",
    "    \n",
    "    threshold = 0.23 #45\n",
    "    ### Classification Report\n",
    "    model_predict = model.predict(valid_x)\n",
    "    model_predict_prob = model.predict_proba(valid_x)[:,1]\n",
    "    model_predict = (model.predict_proba(valid_x)[:,1] >= threshold).astype(bool)\n",
    "    \n",
    "    ### Validation\n",
    "    valid_test_df_0 = valid_test_df[list(train_x.columns)].copy()\n",
    "    valid_results = (model.predict_proba(valid_test_df_0)[:,1] >= threshold).astype(int)\n",
    "    predictions_df = pd.DataFrame(valid_results)\n",
    "    predictions_df.columns = ['TARGET']\n",
    "    valid_results_df = pd.concat([valid_test_df[['ID']].reset_index(),\n",
    "                                  predictions_df.reset_index()], axis=1)\n",
    "    \n",
    "    feature_importance = pd.DataFrame(model.feature_importances_,\n",
    "                                      index = train_x.columns,columns=['importance']).sort_values('importance',ascending=False)\n",
    "\n",
    "    feat_importances = pd.Series(model.feature_importances_, index=train_x.columns)\n",
    "    feat_importances.nlargest(20).plot(kind='barh')\n",
    "    \n",
    "    #model_predict_prob_valid = valid_results(valid_test_df_0)[:,1]\n",
    "    #valid_results = (predict_proba(valid_test_df_0)[:,1] >= 0.23,1,0)\n",
    "\n",
    "    print(\"=== Validation (test) Confusion Matrix ===\")\n",
    "    print(confusion_matrix(valid_y, model_predict))\n",
    "    print('\\n')\n",
    "    print(\"=== Classification Report ===\")\n",
    "    print(classification_report(valid_y, model_predict))\n",
    "    \n",
    "    pred_vars = list(train_x.columns)\n",
    "    \n",
    "    return model, valid_results_df"
   ]
  },
  {
   "cell_type": "code",
   "execution_count": 313,
   "metadata": {},
   "outputs": [],
   "source": [
    "modelling_1 = modelling_0.select_dtypes(include=[np.number])"
   ]
  },
  {
   "cell_type": "code",
   "execution_count": 314,
   "metadata": {},
   "outputs": [
    {
     "name": "stdout",
     "output_type": "stream",
     "text": [
      "train shape: (37363, 86) valid shape: (6594, 86)\n",
      "[0]\tvalidation_0-auc:0.79932\tvalidation_1-auc:0.80477\n",
      "[1]\tvalidation_0-auc:0.85230\tvalidation_1-auc:0.85326\n",
      "[2]\tvalidation_0-auc:0.87935\tvalidation_1-auc:0.87871\n",
      "[3]\tvalidation_0-auc:0.88484\tvalidation_1-auc:0.88452\n",
      "[4]\tvalidation_0-auc:0.89166\tvalidation_1-auc:0.89131\n",
      "[5]\tvalidation_0-auc:0.89648\tvalidation_1-auc:0.89605\n",
      "[6]\tvalidation_0-auc:0.90093\tvalidation_1-auc:0.90013\n"
     ]
    },
    {
     "name": "stderr",
     "output_type": "stream",
     "text": [
      "The use of label encoder in XGBClassifier is deprecated and will be removed in a future release. To remove this warning, do the following: 1) Pass option use_label_encoder=False when constructing XGBClassifier object; and 2) Encode your labels (y) as integers starting with 0, i.e. 0, 1, 2, ..., [num_class - 1].\n",
      "pandas.Int64Index is deprecated and will be removed from pandas in a future version. Use pandas.Index with the appropriate dtype instead.\n"
     ]
    },
    {
     "name": "stdout",
     "output_type": "stream",
     "text": [
      "[7]\tvalidation_0-auc:0.90243\tvalidation_1-auc:0.90104\n",
      "[8]\tvalidation_0-auc:0.90465\tvalidation_1-auc:0.90311\n",
      "[9]\tvalidation_0-auc:0.90453\tvalidation_1-auc:0.90244\n",
      "[10]\tvalidation_0-auc:0.90550\tvalidation_1-auc:0.90331\n",
      "[11]\tvalidation_0-auc:0.90689\tvalidation_1-auc:0.90461\n",
      "[12]\tvalidation_0-auc:0.90808\tvalidation_1-auc:0.90580\n",
      "[13]\tvalidation_0-auc:0.90857\tvalidation_1-auc:0.90663\n",
      "[14]\tvalidation_0-auc:0.90887\tvalidation_1-auc:0.90688\n",
      "[15]\tvalidation_0-auc:0.90912\tvalidation_1-auc:0.90712\n",
      "[16]\tvalidation_0-auc:0.90968\tvalidation_1-auc:0.90765\n",
      "[17]\tvalidation_0-auc:0.91040\tvalidation_1-auc:0.90825\n",
      "[18]\tvalidation_0-auc:0.91050\tvalidation_1-auc:0.90832\n",
      "[19]\tvalidation_0-auc:0.91089\tvalidation_1-auc:0.90863\n",
      "[20]\tvalidation_0-auc:0.91143\tvalidation_1-auc:0.90900\n",
      "[21]\tvalidation_0-auc:0.91195\tvalidation_1-auc:0.90947\n",
      "[22]\tvalidation_0-auc:0.91253\tvalidation_1-auc:0.90999\n",
      "[23]\tvalidation_0-auc:0.91279\tvalidation_1-auc:0.91019\n",
      "[24]\tvalidation_0-auc:0.91307\tvalidation_1-auc:0.91047\n",
      "[25]\tvalidation_0-auc:0.91338\tvalidation_1-auc:0.91067\n",
      "[26]\tvalidation_0-auc:0.91364\tvalidation_1-auc:0.91091\n",
      "[27]\tvalidation_0-auc:0.91389\tvalidation_1-auc:0.91144\n",
      "[28]\tvalidation_0-auc:0.91417\tvalidation_1-auc:0.91157\n",
      "[29]\tvalidation_0-auc:0.91441\tvalidation_1-auc:0.91192\n",
      "[30]\tvalidation_0-auc:0.91471\tvalidation_1-auc:0.91210\n",
      "[31]\tvalidation_0-auc:0.91492\tvalidation_1-auc:0.91223\n",
      "[32]\tvalidation_0-auc:0.91534\tvalidation_1-auc:0.91252\n",
      "[33]\tvalidation_0-auc:0.91565\tvalidation_1-auc:0.91283\n",
      "[34]\tvalidation_0-auc:0.91587\tvalidation_1-auc:0.91308\n",
      "[35]\tvalidation_0-auc:0.91598\tvalidation_1-auc:0.91323\n",
      "[36]\tvalidation_0-auc:0.91618\tvalidation_1-auc:0.91338\n",
      "[37]\tvalidation_0-auc:0.91642\tvalidation_1-auc:0.91368\n",
      "[38]\tvalidation_0-auc:0.91677\tvalidation_1-auc:0.91399\n",
      "[39]\tvalidation_0-auc:0.91687\tvalidation_1-auc:0.91404\n",
      "[40]\tvalidation_0-auc:0.91700\tvalidation_1-auc:0.91419\n",
      "[41]\tvalidation_0-auc:0.91729\tvalidation_1-auc:0.91439\n",
      "[42]\tvalidation_0-auc:0.91740\tvalidation_1-auc:0.91441\n",
      "[43]\tvalidation_0-auc:0.91760\tvalidation_1-auc:0.91450\n",
      "[44]\tvalidation_0-auc:0.91764\tvalidation_1-auc:0.91455\n",
      "[45]\tvalidation_0-auc:0.91774\tvalidation_1-auc:0.91458\n",
      "[46]\tvalidation_0-auc:0.91790\tvalidation_1-auc:0.91484\n",
      "[47]\tvalidation_0-auc:0.91790\tvalidation_1-auc:0.91489\n",
      "[48]\tvalidation_0-auc:0.91813\tvalidation_1-auc:0.91518\n",
      "[49]\tvalidation_0-auc:0.91827\tvalidation_1-auc:0.91537\n",
      "[50]\tvalidation_0-auc:0.91847\tvalidation_1-auc:0.91552\n",
      "[51]\tvalidation_0-auc:0.91861\tvalidation_1-auc:0.91562\n",
      "[52]\tvalidation_0-auc:0.91890\tvalidation_1-auc:0.91587\n",
      "[53]\tvalidation_0-auc:0.91911\tvalidation_1-auc:0.91597\n",
      "[54]\tvalidation_0-auc:0.91941\tvalidation_1-auc:0.91627\n",
      "[55]\tvalidation_0-auc:0.91951\tvalidation_1-auc:0.91638\n",
      "[56]\tvalidation_0-auc:0.91953\tvalidation_1-auc:0.91642\n",
      "[57]\tvalidation_0-auc:0.91966\tvalidation_1-auc:0.91653\n",
      "[58]\tvalidation_0-auc:0.91973\tvalidation_1-auc:0.91659\n",
      "[59]\tvalidation_0-auc:0.91988\tvalidation_1-auc:0.91686\n",
      "[60]\tvalidation_0-auc:0.92006\tvalidation_1-auc:0.91702\n",
      "[61]\tvalidation_0-auc:0.92047\tvalidation_1-auc:0.91738\n",
      "[62]\tvalidation_0-auc:0.92060\tvalidation_1-auc:0.91744\n",
      "[63]\tvalidation_0-auc:0.92086\tvalidation_1-auc:0.91772\n",
      "[64]\tvalidation_0-auc:0.92111\tvalidation_1-auc:0.91797\n",
      "[65]\tvalidation_0-auc:0.92128\tvalidation_1-auc:0.91817\n",
      "[66]\tvalidation_0-auc:0.92139\tvalidation_1-auc:0.91828\n",
      "[67]\tvalidation_0-auc:0.92151\tvalidation_1-auc:0.91836\n",
      "[68]\tvalidation_0-auc:0.92164\tvalidation_1-auc:0.91849\n",
      "[69]\tvalidation_0-auc:0.92173\tvalidation_1-auc:0.91856\n",
      "[70]\tvalidation_0-auc:0.92181\tvalidation_1-auc:0.91871\n",
      "[71]\tvalidation_0-auc:0.92215\tvalidation_1-auc:0.91907\n",
      "[72]\tvalidation_0-auc:0.92234\tvalidation_1-auc:0.91927\n",
      "[73]\tvalidation_0-auc:0.92240\tvalidation_1-auc:0.91927\n",
      "[74]\tvalidation_0-auc:0.92248\tvalidation_1-auc:0.91931\n",
      "[75]\tvalidation_0-auc:0.92257\tvalidation_1-auc:0.91936\n",
      "[76]\tvalidation_0-auc:0.92270\tvalidation_1-auc:0.91946\n",
      "[77]\tvalidation_0-auc:0.92277\tvalidation_1-auc:0.91956\n",
      "[78]\tvalidation_0-auc:0.92282\tvalidation_1-auc:0.91956\n",
      "[79]\tvalidation_0-auc:0.92288\tvalidation_1-auc:0.91958\n",
      "[80]\tvalidation_0-auc:0.92296\tvalidation_1-auc:0.91968\n",
      "[81]\tvalidation_0-auc:0.92304\tvalidation_1-auc:0.91969\n",
      "[82]\tvalidation_0-auc:0.92317\tvalidation_1-auc:0.91978\n",
      "[83]\tvalidation_0-auc:0.92322\tvalidation_1-auc:0.91977\n",
      "[84]\tvalidation_0-auc:0.92336\tvalidation_1-auc:0.91995\n",
      "[85]\tvalidation_0-auc:0.92343\tvalidation_1-auc:0.92000\n",
      "[86]\tvalidation_0-auc:0.92349\tvalidation_1-auc:0.91998\n",
      "[87]\tvalidation_0-auc:0.92361\tvalidation_1-auc:0.92013\n",
      "[88]\tvalidation_0-auc:0.92364\tvalidation_1-auc:0.92016\n",
      "[89]\tvalidation_0-auc:0.92381\tvalidation_1-auc:0.92035\n",
      "[90]\tvalidation_0-auc:0.92388\tvalidation_1-auc:0.92041\n",
      "[91]\tvalidation_0-auc:0.92416\tvalidation_1-auc:0.92067\n",
      "[92]\tvalidation_0-auc:0.92422\tvalidation_1-auc:0.92073\n",
      "[93]\tvalidation_0-auc:0.92428\tvalidation_1-auc:0.92079\n",
      "[94]\tvalidation_0-auc:0.92437\tvalidation_1-auc:0.92078\n",
      "[95]\tvalidation_0-auc:0.92446\tvalidation_1-auc:0.92088\n",
      "[96]\tvalidation_0-auc:0.92455\tvalidation_1-auc:0.92095\n",
      "[97]\tvalidation_0-auc:0.92461\tvalidation_1-auc:0.92100\n",
      "[98]\tvalidation_0-auc:0.92470\tvalidation_1-auc:0.92102\n",
      "[99]\tvalidation_0-auc:0.92475\tvalidation_1-auc:0.92103\n",
      "[100]\tvalidation_0-auc:0.92482\tvalidation_1-auc:0.92106\n",
      "[101]\tvalidation_0-auc:0.92505\tvalidation_1-auc:0.92130\n",
      "[102]\tvalidation_0-auc:0.92512\tvalidation_1-auc:0.92134\n",
      "[103]\tvalidation_0-auc:0.92518\tvalidation_1-auc:0.92137\n",
      "[104]\tvalidation_0-auc:0.92524\tvalidation_1-auc:0.92143\n",
      "[105]\tvalidation_0-auc:0.92528\tvalidation_1-auc:0.92148\n",
      "[106]\tvalidation_0-auc:0.92536\tvalidation_1-auc:0.92163\n",
      "[107]\tvalidation_0-auc:0.92554\tvalidation_1-auc:0.92177\n",
      "[108]\tvalidation_0-auc:0.92557\tvalidation_1-auc:0.92181\n",
      "[109]\tvalidation_0-auc:0.92563\tvalidation_1-auc:0.92190\n",
      "[110]\tvalidation_0-auc:0.92567\tvalidation_1-auc:0.92193\n",
      "[111]\tvalidation_0-auc:0.92577\tvalidation_1-auc:0.92202\n",
      "[112]\tvalidation_0-auc:0.92581\tvalidation_1-auc:0.92203\n",
      "[113]\tvalidation_0-auc:0.92585\tvalidation_1-auc:0.92206\n",
      "[114]\tvalidation_0-auc:0.92588\tvalidation_1-auc:0.92208\n",
      "[115]\tvalidation_0-auc:0.92592\tvalidation_1-auc:0.92209\n",
      "[116]\tvalidation_0-auc:0.92599\tvalidation_1-auc:0.92218\n",
      "[117]\tvalidation_0-auc:0.92608\tvalidation_1-auc:0.92230\n",
      "[118]\tvalidation_0-auc:0.92618\tvalidation_1-auc:0.92239\n",
      "[119]\tvalidation_0-auc:0.92619\tvalidation_1-auc:0.92236\n",
      "[120]\tvalidation_0-auc:0.92623\tvalidation_1-auc:0.92239\n",
      "[121]\tvalidation_0-auc:0.92627\tvalidation_1-auc:0.92240\n",
      "[122]\tvalidation_0-auc:0.92630\tvalidation_1-auc:0.92242\n",
      "[123]\tvalidation_0-auc:0.92632\tvalidation_1-auc:0.92241\n",
      "[124]\tvalidation_0-auc:0.92636\tvalidation_1-auc:0.92242\n",
      "[125]\tvalidation_0-auc:0.92643\tvalidation_1-auc:0.92247\n",
      "[126]\tvalidation_0-auc:0.92646\tvalidation_1-auc:0.92248\n",
      "[127]\tvalidation_0-auc:0.92652\tvalidation_1-auc:0.92258\n",
      "[128]\tvalidation_0-auc:0.92655\tvalidation_1-auc:0.92258\n",
      "[129]\tvalidation_0-auc:0.92661\tvalidation_1-auc:0.92261\n",
      "[130]\tvalidation_0-auc:0.92665\tvalidation_1-auc:0.92262\n",
      "[131]\tvalidation_0-auc:0.92668\tvalidation_1-auc:0.92266\n",
      "[132]\tvalidation_0-auc:0.92669\tvalidation_1-auc:0.92266\n",
      "[133]\tvalidation_0-auc:0.92679\tvalidation_1-auc:0.92275\n",
      "[134]\tvalidation_0-auc:0.92682\tvalidation_1-auc:0.92277\n",
      "[135]\tvalidation_0-auc:0.92694\tvalidation_1-auc:0.92289\n",
      "[136]\tvalidation_0-auc:0.92697\tvalidation_1-auc:0.92285\n",
      "[137]\tvalidation_0-auc:0.92703\tvalidation_1-auc:0.92290\n",
      "[138]\tvalidation_0-auc:0.92711\tvalidation_1-auc:0.92296\n",
      "[139]\tvalidation_0-auc:0.92717\tvalidation_1-auc:0.92303\n",
      "[140]\tvalidation_0-auc:0.92720\tvalidation_1-auc:0.92301\n",
      "[141]\tvalidation_0-auc:0.92727\tvalidation_1-auc:0.92307\n",
      "[142]\tvalidation_0-auc:0.92734\tvalidation_1-auc:0.92316\n",
      "[143]\tvalidation_0-auc:0.92738\tvalidation_1-auc:0.92316\n",
      "[144]\tvalidation_0-auc:0.92744\tvalidation_1-auc:0.92317\n",
      "[145]\tvalidation_0-auc:0.92744\tvalidation_1-auc:0.92316\n",
      "[146]\tvalidation_0-auc:0.92744\tvalidation_1-auc:0.92319\n",
      "[147]\tvalidation_0-auc:0.92750\tvalidation_1-auc:0.92325\n",
      "[148]\tvalidation_0-auc:0.92756\tvalidation_1-auc:0.92326\n",
      "[149]\tvalidation_0-auc:0.92758\tvalidation_1-auc:0.92327\n",
      "\n",
      "\n",
      "\n",
      "\n",
      "=== Mean AUC Score ===\n",
      "Mean AUC Score:  0.9232672626070897\n",
      "=== Validation (test) Confusion Matrix ===\n",
      "[[4026 1024]\n",
      " [ 191 1353]]\n",
      "\n",
      "\n",
      "=== Classification Report ===\n",
      "              precision    recall  f1-score   support\n",
      "\n",
      "           0       0.95      0.80      0.87      5050\n",
      "           1       0.57      0.88      0.69      1544\n",
      "\n",
      "    accuracy                           0.82      6594\n",
      "   macro avg       0.76      0.84      0.78      6594\n",
      "weighted avg       0.86      0.82      0.83      6594\n",
      "\n"
     ]
    },
    {
     "name": "stderr",
     "output_type": "stream",
     "text": [
      "pandas.Int64Index is deprecated and will be removed from pandas in a future version. Use pandas.Index with the appropriate dtype instead.\n",
      "pandas.Int64Index is deprecated and will be removed from pandas in a future version. Use pandas.Index with the appropriate dtype instead.\n",
      "pandas.Int64Index is deprecated and will be removed from pandas in a future version. Use pandas.Index with the appropriate dtype instead.\n"
     ]
    },
    {
     "data": {
      "image/png": "[encoded data removed]",
      "text/plain": [
       "<Figure size 432x288 with 1 Axes>"
      ]
     },
     "metadata": {
      "needs_background": "light"
     },
     "output_type": "display_data"
    }
   ],
   "source": [
    "xgb_model, valid_data = train_apps_all_xgbm(modelling_1, 'xggb_labels','xgb_prob', test_set_0, 0) "
   ]
  },
  {
   "cell_type": "code",
   "execution_count": 315,
   "metadata": {},
   "outputs": [
    {
     "data": {
      "text/plain": [
       "0.4010235414534289"
      ]
     },
     "execution_count": 315,
     "metadata": {},
     "output_type": "execute_result"
    }
   ],
   "source": [
    "valid_data[(valid_data.TARGET == 1)].shape[0]/valid_data.shape[0]"
   ]
  },
  {
   "cell_type": "code",
   "execution_count": 305,
   "metadata": {},
   "outputs": [
    {
     "data": {
      "text/plain": [
       "0.23809632140500944"
      ]
     },
     "execution_count": 305,
     "metadata": {},
     "output_type": "execute_result"
    }
   ],
   "source": [
    "modelling_1[(modelling_1.TARGET == 1)].shape[0]/modelling_1.shape[0]"
   ]
  },
  {
   "cell_type": "code",
   "execution_count": 306,
   "metadata": {},
   "outputs": [],
   "source": [
    "submission_files = valid_data[['ID','TARGET']]\n",
    "submission_files = submission_files.to_csv('/Users/rivalani/OneDrive - Vodafone Group/Documents/BigData_Conference/Submission/submission_file.csv', index=False)"
   ]
  },
  {
   "cell_type": "code",
   "execution_count": 168,
   "metadata": {},
   "outputs": [
    {
     "name": "stdout",
     "output_type": "stream",
     "text": [
      "/Users/rivalani/OneDrive - Vodafone Group/Documents/BigData_Conference\r\n"
     ]
    }
   ],
   "source": [
    "=== Validation (test) Confusion Matrix ===\n",
    "[[3190  183]\n",
    " [ 218  805]]\n",
    "\n",
    "\n",
    "=== Classification Report ===\n",
    "              precision    recall  f1-score   support\n",
    "\n",
    "           0       0.94      0.95      0.94      3373\n",
    "           1       0.81      0.79      0.80      1023\n",
    "\n",
    "    accuracy                           0.91      4396\n",
    "   macro avg       0.88      0.87      0.87      4396\n",
    "weighted avg       0.91      0.91      0.91      4396"
   ]
  },
  {
   "cell_type": "code",
   "execution_count": null,
   "metadata": {},
   "outputs": [],
   "source": [
    "[981]\tvalidation_0-logloss:0.20939\tvalidation_1-logloss:0.28261\n",
    "[982]\tvalidation_0-logloss:0.20933\tvalidation_1-logloss:0.28262\n",
    "\n",
    "\n",
    "=== Mean AUC Score ===\n",
    "Mean AUC Score:  0.9239998290925752\n",
    "pandas.Int64Index is deprecated and will be removed from pandas in a future version. Use pandas.Index with the appropriate dtype instead.\n",
    "pandas.Int64Index is deprecated and will be removed from pandas in a future version. Use pandas.Index with the appropriate dtype instead.\n",
    "pandas.Int64Index is deprecated and will be removed from pandas in a future version. Use pandas.Index with the appropriate dtype instead.\n",
    "=== Validation (test) Confusion Matrix ===\n",
    "[[2816  557]\n",
    " [  76  947]]\n",
    "\n",
    "\n",
    "=== Classification Report ===\n",
    "              precision    recall  f1-score   support\n",
    "\n",
    "           0       0.97      0.83      0.90      3373\n",
    "           1       0.63      0.93      0.75      1023\n",
    "\n",
    "    accuracy                           0.86      4396\n",
    "   macro avg       0.80      0.88      0.82      4396\n",
    "weighted avg       0.89      0.86      0.86      4396"
   ]
  },
  {
   "cell_type": "code",
   "execution_count": null,
   "metadata": {},
   "outputs": [],
   "source": []
  },
  {
   "cell_type": "code",
   "execution_count": null,
   "metadata": {},
   "outputs": [],
   "source": [
    "# pickle.dump(xgb_model, open('Models/xgb_model.sav', 'wb'))\n",
    "#lgbm_model = pickle.load(open('Models/lgbm_model.sav','rb'))"
   ]
  },
  {
   "cell_type": "code",
   "execution_count": null,
   "metadata": {},
   "outputs": [
    {
     "data": {
      "text/html": [
       "<style>#sk-container-id-2 {color: black;}#sk-container-id-2 pre{padding: 0;}#sk-container-id-2 div.sk-toggleable {background-color: white;}#sk-container-id-2 label.sk-toggleable__label {cursor: pointer;display: block;width: 100%;margin-bottom: 0;padding: 0.3em;box-sizing: border-box;text-align: center;}#sk-container-id-2 label.sk-toggleable__label-arrow:before {content: \"▸\";float: left;margin-right: 0.25em;color: #696969;}#sk-container-id-2 label.sk-toggleable__label-arrow:hover:before {color: black;}#sk-container-id-2 div.sk-estimator:hover label.sk-toggleable__label-arrow:before {color: black;}#sk-container-id-2 div.sk-toggleable__content {max-height: 0;max-width: 0;overflow: hidden;text-align: left;background-color: #f0f8ff;}#sk-container-id-2 div.sk-toggleable__content pre {margin: 0.2em;color: black;border-radius: 0.25em;background-color: #f0f8ff;}#sk-container-id-2 input.sk-toggleable__control:checked~div.sk-toggleable__content {max-height: 200px;max-width: 100%;overflow: auto;}#sk-container-id-2 input.sk-toggleable__control:checked~label.sk-toggleable__label-arrow:before {content: \"▾\";}#sk-container-id-2 div.sk-estimator input.sk-toggleable__control:checked~label.sk-toggleable__label {background-color: #d4ebff;}#sk-container-id-2 div.sk-label input.sk-toggleable__control:checked~label.sk-toggleable__label {background-color: #d4ebff;}#sk-container-id-2 input.sk-hidden--visually {border: 0;clip: rect(1px 1px 1px 1px);clip: rect(1px, 1px, 1px, 1px);height: 1px;margin: -1px;overflow: hidden;padding: 0;position: absolute;width: 1px;}#sk-container-id-2 div.sk-estimator {font-family: monospace;background-color: #f0f8ff;border: 1px dotted black;border-radius: 0.25em;box-sizing: border-box;margin-bottom: 0.5em;}#sk-container-id-2 div.sk-estimator:hover {background-color: #d4ebff;}#sk-container-id-2 div.sk-parallel-item::after {content: \"\";width: 100%;border-bottom: 1px solid gray;flex-grow: 1;}#sk-container-id-2 div.sk-label:hover label.sk-toggleable__label {background-color: #d4ebff;}#sk-container-id-2 div.sk-serial::before {content: \"\";position: absolute;border-left: 1px solid gray;box-sizing: border-box;top: 0;bottom: 0;left: 50%;z-index: 0;}#sk-container-id-2 div.sk-serial {display: flex;flex-direction: column;align-items: center;background-color: white;padding-right: 0.2em;padding-left: 0.2em;position: relative;}#sk-container-id-2 div.sk-item {position: relative;z-index: 1;}#sk-container-id-2 div.sk-parallel {display: flex;align-items: stretch;justify-content: center;background-color: white;position: relative;}#sk-container-id-2 div.sk-item::before, #sk-container-id-2 div.sk-parallel-item::before {content: \"\";position: absolute;border-left: 1px solid gray;box-sizing: border-box;top: 0;bottom: 0;left: 50%;z-index: -1;}#sk-container-id-2 div.sk-parallel-item {display: flex;flex-direction: column;z-index: 1;position: relative;background-color: white;}#sk-container-id-2 div.sk-parallel-item:first-child::after {align-self: flex-end;width: 50%;}#sk-container-id-2 div.sk-parallel-item:last-child::after {align-self: flex-start;width: 50%;}#sk-container-id-2 div.sk-parallel-item:only-child::after {width: 0;}#sk-container-id-2 div.sk-dashed-wrapped {border: 1px dashed gray;margin: 0 0.4em 0.5em 0.4em;box-sizing: border-box;padding-bottom: 0.4em;background-color: white;}#sk-container-id-2 div.sk-label label {font-family: monospace;font-weight: bold;display: inline-block;line-height: 1.2em;}#sk-container-id-2 div.sk-label-container {text-align: center;}#sk-container-id-2 div.sk-container {/* jupyter's `normalize.less` sets `[hidden] { display: none; }` but bootstrap.min.css set `[hidden] { display: none !important; }` so we also need the `!important` here to be able to override the default hidden behavior on the sphinx rendered scikit-learn.org. See: https://github.com/scikit-learn/scikit-learn/issues/21755 */display: inline-block !important;position: relative;}#sk-container-id-2 div.sk-text-repr-fallback {display: none;}</style><div id=\"sk-container-id-2\" class=\"sk-top-container\"><div class=\"sk-text-repr-fallback\"><pre>LGBMClassifier(colsample_bytree=0.613, force_col_wise=True, learning_rate=0.02,\n",
       "               max_bin=421, max_depth=11, min_child_samples=160,\n",
       "               min_child_weight=5, n_jobs=-1, num_leaves=58, random_state=2020,\n",
       "               reg_alpha=3, reg_lambda=5, subsample=0.65, verbosity=0)</pre><b>In a Jupyter environment, please rerun this cell to show the HTML representation or trust the notebook. <br />On GitHub, the HTML representation is unable to render, please try loading this page with nbviewer.org.</b></div><div class=\"sk-container\" hidden><div class=\"sk-item\"><div class=\"sk-estimator sk-toggleable\"><input class=\"sk-toggleable__control sk-hidden--visually\" id=\"sk-estimator-id-2\" type=\"checkbox\" checked><label for=\"sk-estimator-id-2\" class=\"sk-toggleable__label sk-toggleable__label-arrow\">LGBMClassifier</label><div class=\"sk-toggleable__content\"><pre>LGBMClassifier(colsample_bytree=0.613, force_col_wise=True, learning_rate=0.02,\n",
       "               max_bin=421, max_depth=11, min_child_samples=160,\n",
       "               min_child_weight=5, n_jobs=-1, num_leaves=58, random_state=2020,\n",
       "               reg_alpha=3, reg_lambda=5, subsample=0.65, verbosity=0)</pre></div></div></div></div></div>"
      ],
      "text/plain": [
       "LGBMClassifier(colsample_bytree=0.613, force_col_wise=True, learning_rate=0.02,\n",
       "               max_bin=421, max_depth=11, min_child_samples=160,\n",
       "               min_child_weight=5, n_jobs=-1, num_leaves=58, random_state=2020,\n",
       "               reg_alpha=3, reg_lambda=5, subsample=0.65, verbosity=0)"
      ]
     },
     "execution_count": 46,
     "metadata": {},
     "output_type": "execute_result"
    }
   ],
   "source": [
    "# Create the LGBMClassifier with your specified hyperparameters and n_estimators\n",
    "model = lgb.LGBMClassifier(\n",
    "    colsample_bytree=0.613,\n",
    "    force_col_wise=True,\n",
    "    learning_rate=0.02,\n",
    "    max_bin=421,\n",
    "    max_depth=11,\n",
    "    min_child_samples=160,\n",
    "    min_child_weight=5,\n",
    "    n_estimators=100,  # Set the number of boosting rounds (e.g., 100)\n",
    "    n_jobs=-1,\n",
    "    num_leaves=58,\n",
    "    random_state=2020,\n",
    "    reg_alpha=3,\n",
    "    reg_lambda=5,\n",
    "    subsample=0.65,\n",
    "    verbosity=0\n",
    ")\n",
    "\n",
    "# Fit the model to your training data\n",
    "model.fit(train_x, train_y)"
   ]
  },
  {
   "cell_type": "code",
   "execution_count": null,
   "metadata": {},
   "outputs": [],
   "source": []
  },
  {
   "cell_type": "code",
   "execution_count": null,
   "metadata": {},
   "outputs": [],
   "source": []
  },
  {
   "cell_type": "code",
   "execution_count": null,
   "metadata": {},
   "outputs": [],
   "source": []
  },
  {
   "cell_type": "code",
   "execution_count": null,
   "metadata": {},
   "outputs": [],
   "source": [
    "# Load your data into a pandas DataFrame (replace 'your_data.csv' with\n",
    "your data file)\n",
    "df = modelling.drop(['TARGET'], axis=1)\n",
    "\n",
    "# 1. Remove Non-Numeric Columns\n",
    "numeric_df = df.select_dtypes(include=[np.number])  # Select only\n",
    "numeric columns\n",
    "\n",
    "# 2. Handle Missing Values\n",
    "#numeric_df.dropna(inplace=True)  # Drop rows with missing values\n",
    "# Or, to fill missing values with zeros:\n",
    "numeric_df.fillna(0, inplace=True)\n",
    "\n",
    "# 3. Check for Infinite Values\n",
    "numeric_df = numeric_df.replace([np.inf, -np.inf], np.nan)\n",
    "\n",
    "# 4. Recompute the Correlation Matrix\n",
    "correlation_matrix = numeric_df.corr()\n",
    "\n",
    "# 5. Handle Non-Finite Values in Correlation Matrix\n",
    "correlation_matrix = correlation_matrix.fillna(0)  # Replace NaN\n",
    "values with zeros\n",
    "\n",
    "# 6. Proceed with Hierarchical Clustering\n",
    "linkage_matrix = hierarchy.linkage(correlation_matrix, method='complete')\n",
    "\n",
    "# Set the threshold height for cutting the dendrogram\n",
    "threshold = 0.6  # Adjust this threshold as needed\n",
    "\n",
    "# Extract cluster assignments for each variable\n",
    "clusters = fcluster(linkage_matrix, threshold, criterion='distance')\n",
    "\n",
    "# Create a dictionary to map variables to clusters\n",
    "variable_cluster_mapping = {var: cluster for var, cluster in\n",
    "zip(correlation_matrix.columns, clusters)}\n",
    "\n",
    "# 7. Create a list of lists with variables from each cluster\n",
    "num_clusters = max(clusters)  # Get the total number of clusters\n",
    "\n",
    "clustered_variables = [[] for _ in range(num_clusters + 1)]  #\n",
    "Initialize an empty list for each cluster\n",
    "\n",
    "for var, cluster in variable_cluster_mapping.items():\n",
    "    clustered_variables[cluster].append(var)"
   ]
  },
  {
   "cell_type": "code",
   "execution_count": null,
   "metadata": {},
   "outputs": [],
   "source": []
  },
  {
   "cell_type": "code",
   "execution_count": null,
   "metadata": {},
   "outputs": [],
   "source": []
  },
  {
   "cell_type": "code",
   "execution_count": null,
   "metadata": {},
   "outputs": [],
   "source": []
  },
  {
   "cell_type": "code",
   "execution_count": null,
   "metadata": {},
   "outputs": [],
   "source": []
  },
  {
   "cell_type": "code",
   "execution_count": null,
   "metadata": {},
   "outputs": [],
   "source": []
  },
  {
   "cell_type": "code",
   "execution_count": null,
   "metadata": {},
   "outputs": [
    {
     "name": "stderr",
     "output_type": "stream",
     "text": [
      "  2%|                   | 4319/261384 [00:57<56:32]       "
     ]
    }
   ],
   "source": [
    "explainer = shap.Explainer(model, train_x.sample(1000))\n",
    "shap_values = explainer(train_x)"
   ]
  },
  {
   "cell_type": "code",
   "execution_count": null,
   "metadata": {},
   "outputs": [],
   "source": [
    "instance = 12\n",
    "shap.plots.waterfall(shap_values_xgb[instance],max_display=20)"
   ]
  },
  {
   "cell_type": "code",
   "execution_count": null,
   "metadata": {},
   "outputs": [
    {
     "data": {
      "text/plain": [
       "414"
      ]
     },
     "execution_count": 29,
     "metadata": {},
     "output_type": "execute_result"
    }
   ],
   "source": [
    "len(pred_vars)"
   ]
  },
  {
   "cell_type": "code",
   "execution_count": null,
   "metadata": {},
   "outputs": [],
   "source": [
    "def train_apps_all_xgbm_1(modelling, auc_labels_file_name, auc_prob_file_name, valid_test_df):\n",
    "    ftr_app = modelling.drop(['ID', 'TARGET'], axis=1, errors='ignore')\n",
    "    target_app = modelling['TARGET']\n",
    "\n",
    "    train_x, valid_x, train_y, valid_y = train_test_split(ftr_app, target_app, test_size=0.2, \n",
    "                                                          random_state=2020)\n",
    "    print('train shape:', train_x.shape, 'valid shape:', valid_x.shape)\n",
    "    clf = XGBClassifier(\n",
    "                        n_jobs=-1,\n",
    "                        n_estimators=983,\n",
    "                        learning_rate=0.02,\n",
    "                        max_depth=11,\n",
    "                        num_leaves=58,\n",
    "                        colsample_bytree=0.613,\n",
    "                        subsample=0.65,\n",
    "                        max_bin=421,\n",
    "                        reg_alpha=3,\n",
    "                        reg_lambda=5,\n",
    "                        min_child_weight=5,\n",
    "                        min_child_samples=160,\n",
    "                        verbosity=0,\n",
    "                        random_state=2020,\n",
    "                        force_col_wise=True\n",
    "                )\n",
    "   \n",
    "    clf.fit(train_x, train_y, eval_set=[(train_x, train_y), (valid_x, valid_y)], \n",
    "                    eval_metric= 'logloss')\n",
    "    \n",
    "    # Access the best iteration (boosting round) from the trained model\n",
    "    #best_iteration = clf.best_iteration_\n",
    "\n",
    "    # Set the n_estimators parameter to the best_iteration\n",
    "    #clf.set_params(n_estimators=best_iteration)\n",
    "    model = clf #clf.set_params(n_estimators=best_iteration)\n",
    "    \n",
    "    ### AUC\n",
    "    auc_cv_score = roc_auc_score(valid_y, model.predict_proba(valid_x)[:, 1])\n",
    "    \n",
    "    print(\"\\n\\n\\n\")\n",
    "    print(\"=== Mean AUC Score ===\")\n",
    "    print(\"Mean AUC Score: \", auc_cv_score.mean())\n",
    "    #print(clf.best_iteration_)\n",
    "    \n",
    "    prob_df = pd.DataFrame(model.predict_proba(valid_x)[:, 1])\n",
    "    prob_df.columns = ['prob_1']\n",
    "    #prob_df.to_csv('AUC_COMPARISONS/'+auc_prob_file_name+'.csv', index=False)\n",
    "    \n",
    "    train_x, valid_x, train_y, valid_y = train_test_split(ftr_app, target_app, test_size=0.15, \n",
    "                                                          random_state=113)\n",
    "    threshold = 0.23\n",
    "    ### Classification Report\n",
    "    model_predict = model.predict(valid_x)\n",
    "    model_predict_prob = model.predict_proba(valid_x)[:,1]\n",
    "    model_predict = (model.predict_proba(valid_x)[:,1] >= threshold).astype(bool)\n",
    "    \n",
    "    ### Validation\n",
    "    valid_test_df_0 = valid_test_df[list(train_x.columns)].copy()\n",
    "    valid_results = (model.predict_proba(valid_test_df_0)[:,1] >= threshold).astype(int)\n",
    "    predictions_df = pd.DataFrame(valid_results)\n",
    "    predictions_df.columns = ['TARGET']\n",
    "    valid_results_df = pd.concat([valid_test_df[['ID']].reset_index(),\n",
    "                                  predictions_df.reset_index()], axis=1)\n",
    "    \n",
    "    #model_predict_prob_valid = valid_results(valid_test_df_0)[:,1]\n",
    "    #valid_results = (predict_proba(valid_test_df_0)[:,1] >= 0.23,1,0)\n",
    "\n",
    "    print(\"=== Validation (test) Confusion Matrix ===\")\n",
    "    print(confusion_matrix(valid_y, model_predict))\n",
    "    print('\\n')\n",
    "    print(\"=== Classification Report ===\")\n",
    "    print(classification_report(valid_y, model_predict))\n",
    "    \n",
    "    pred_vars = list(train_x.columns)\n",
    "    \n",
    "    return model, valid_results_df"
   ]
  },
  {
   "cell_type": "code",
   "execution_count": null,
   "metadata": {},
   "outputs": [
    {
     "ename": "InvalidModelError",
     "evalue": "Model type not yet supported by TreeExplainer: <class 'skopt.searchcv.BayesSearchCV'>",
     "output_type": "error",
     "traceback": [
      "\u001b[1;31m---------------------------------------------------------------------------\u001b[0m",
      "\u001b[1;31mInvalidModelError\u001b[0m                         Traceback (most recent call last)",
      "\u001b[1;32mc:\\Users\\rhlon\\OneDrive\\Documents\\UCT\\Data\\AlternativeData\\TestBedNotebook.ipynb Cell 20\u001b[0m line \u001b[0;36m5\n\u001b[0;32m      <a href='vscode-notebook-cell:/c%3A/Users/rhlon/OneDrive/Documents/UCT/Data/AlternativeData/TestBedNotebook.ipynb#X25sZmlsZQ%3D%3D?line=1'>2</a>\u001b[0m data_point \u001b[39m=\u001b[39m modelling[pred_vars \u001b[39m+\u001b[39m [\u001b[39m'\u001b[39m\u001b[39mTARGET\u001b[39m\u001b[39m'\u001b[39m]]\u001b[39m.\u001b[39miloc[\u001b[39m0\u001b[39m, :\u001b[39m-\u001b[39m\u001b[39m1\u001b[39m]  \u001b[39m# Exclude the target column\u001b[39;00m\n\u001b[0;32m      <a href='vscode-notebook-cell:/c%3A/Users/rhlon/OneDrive/Documents/UCT/Data/AlternativeData/TestBedNotebook.ipynb#X25sZmlsZQ%3D%3D?line=3'>4</a>\u001b[0m \u001b[39m# Initialize the SHAP explainer with your model and data\u001b[39;00m\n\u001b[1;32m----> <a href='vscode-notebook-cell:/c%3A/Users/rhlon/OneDrive/Documents/UCT/Data/AlternativeData/TestBedNotebook.ipynb#X25sZmlsZQ%3D%3D?line=4'>5</a>\u001b[0m explainer \u001b[39m=\u001b[39m shap\u001b[39m.\u001b[39;49mTreeExplainer(model)\n\u001b[0;32m      <a href='vscode-notebook-cell:/c%3A/Users/rhlon/OneDrive/Documents/UCT/Data/AlternativeData/TestBedNotebook.ipynb#X25sZmlsZQ%3D%3D?line=6'>7</a>\u001b[0m \u001b[39m# Calculate SHAP values for the data point\u001b[39;00m\n\u001b[0;32m      <a href='vscode-notebook-cell:/c%3A/Users/rhlon/OneDrive/Documents/UCT/Data/AlternativeData/TestBedNotebook.ipynb#X25sZmlsZQ%3D%3D?line=7'>8</a>\u001b[0m shap_values \u001b[39m=\u001b[39m explainer\u001b[39m.\u001b[39mshap_values(data_point)\n",
      "File \u001b[1;32mc:\\users\\rhlon\\appdata\\local\\programs\\python\\python310\\lib\\site-packages\\shap\\explainers\\_tree.py:166\u001b[0m, in \u001b[0;36mTreeExplainer.__init__\u001b[1;34m(self, model, data, model_output, feature_perturbation, feature_names, approximate, **deprecated_options)\u001b[0m\n\u001b[0;32m    164\u001b[0m \u001b[39mself\u001b[39m\u001b[39m.\u001b[39mfeature_perturbation \u001b[39m=\u001b[39m feature_perturbation\n\u001b[0;32m    165\u001b[0m \u001b[39mself\u001b[39m\u001b[39m.\u001b[39mexpected_value \u001b[39m=\u001b[39m \u001b[39mNone\u001b[39;00m\n\u001b[1;32m--> 166\u001b[0m \u001b[39mself\u001b[39m\u001b[39m.\u001b[39mmodel \u001b[39m=\u001b[39m TreeEnsemble(model, \u001b[39mself\u001b[39;49m\u001b[39m.\u001b[39;49mdata, \u001b[39mself\u001b[39;49m\u001b[39m.\u001b[39;49mdata_missing, model_output)\n\u001b[0;32m    167\u001b[0m \u001b[39mself\u001b[39m\u001b[39m.\u001b[39mmodel_output \u001b[39m=\u001b[39m model_output\n\u001b[0;32m    168\u001b[0m \u001b[39m#self.model_output = self.model.model_output # this allows the TreeEnsemble to translate model outputs types by how it loads the model\u001b[39;00m\n",
      "File \u001b[1;32mc:\\users\\rhlon\\appdata\\local\\programs\\python\\python310\\lib\\site-packages\\shap\\explainers\\_tree.py:1155\u001b[0m, in \u001b[0;36mTreeEnsemble.__init__\u001b[1;34m(self, model, data, data_missing, model_output)\u001b[0m\n\u001b[0;32m   1153\u001b[0m     \u001b[39mself\u001b[39m\u001b[39m.\u001b[39mbase_offset \u001b[39m=\u001b[39m model\u001b[39m.\u001b[39minit_params[param_idx]\n\u001b[0;32m   1154\u001b[0m \u001b[39melse\u001b[39;00m:\n\u001b[1;32m-> 1155\u001b[0m     \u001b[39mraise\u001b[39;00m InvalidModelError(\u001b[39m\"\u001b[39m\u001b[39mModel type not yet supported by TreeExplainer: \u001b[39m\u001b[39m\"\u001b[39m \u001b[39m+\u001b[39m \u001b[39mstr\u001b[39m(\u001b[39mtype\u001b[39m(model)))\n\u001b[0;32m   1157\u001b[0m \u001b[39m# build a dense numpy version of all the tree objects\u001b[39;00m\n\u001b[0;32m   1158\u001b[0m \u001b[39mif\u001b[39;00m \u001b[39mself\u001b[39m\u001b[39m.\u001b[39mtrees \u001b[39mis\u001b[39;00m \u001b[39mnot\u001b[39;00m \u001b[39mNone\u001b[39;00m \u001b[39mand\u001b[39;00m \u001b[39mself\u001b[39m\u001b[39m.\u001b[39mtrees:\n",
      "\u001b[1;31mInvalidModelError\u001b[0m: Model type not yet supported by TreeExplainer: <class 'skopt.searchcv.BayesSearchCV'>"
     ]
    }
   ],
   "source": [
    "# Select a specific data point (e.g., the first row)\n",
    "data_point = modelling[pred_vars + ['TARGET']].iloc[0, :-1]  # Exclude the target column\n",
    "\n",
    "# Initialize the SHAP explainer with your model and data\n",
    "explainer = shap.TreeExplainer(model)\n",
    "\n",
    "# Calculate SHAP values for the data point\n",
    "shap_values = explainer.shap_values(data_point)\n",
    "\n",
    "# Convert the SHAP values to a sparse matrix\n",
    "shap_sparse = csc_matrix(np.vstack(shap_values))\n"
   ]
  }
 ],
 "metadata": {
  "kernelspec": {
   "display_name": "Python 3 (ipykernel)",
   "language": "python",
   "name": "python3"
  },
  "language_info": {
   "codemirror_mode": {
    "name": "ipython",
    "version": 3
   },
   "file_extension": ".py",
   "mimetype": "text/x-python",
   "name": "python",
   "nbconvert_exporter": "python",
   "pygments_lexer": "ipython3",
   "version": "3.9.7"
  }
 },
 "nbformat": 4,
 "nbformat_minor": 2
}
